{
 "cells": [
  {
   "cell_type": "markdown",
   "id": "a0c6608c",
   "metadata": {},
   "source": [
    "##### Model Training\n",
    "\n",
    "1.1 Import required packages"
   ]
  },
  {
   "cell_type": "code",
   "execution_count": 2,
   "id": "afd7fcda",
   "metadata": {},
   "outputs": [],
   "source": [
    "import numpy as np\n",
    "import pandas as pd\n",
    "\n",
    "# Modeling\n",
    "from sklearn.linear_model import LogisticRegression, LinearRegression\n",
    "from sklearn.ensemble import RandomForestRegressor\n",
    "from sklearn.svm import SVR\n",
    "from sklearn.tree import DecisionTreeRegressor\n",
    "from sklearn.neighbors import KNeighborsRegressor\n",
    "from catboost import CatBoostRegressor\n",
    "from xgboost import XGBRegressor\n",
    "\n",
    "# Evaluation metrics\n",
    "from sklearn.metrics import mean_squared_error, r2_score, accuracy_score, mean_absolute_error\n",
    "\n",
    "from sklearn.model_selection import train_test_split\n"
   ]
  },
  {
   "cell_type": "markdown",
   "id": "7b55502a",
   "metadata": {},
   "source": [
    "Import csv data as pd dataframe"
   ]
  },
  {
   "cell_type": "code",
   "execution_count": 3,
   "id": "e03fd55a",
   "metadata": {},
   "outputs": [],
   "source": [
    "df = pd.read_csv('StudentsPerformance.csv')"
   ]
  },
  {
   "cell_type": "code",
   "execution_count": 4,
   "id": "53d31fdf",
   "metadata": {},
   "outputs": [
    {
     "data": {
      "text/html": [
       "<div>\n",
       "<style scoped>\n",
       "    .dataframe tbody tr th:only-of-type {\n",
       "        vertical-align: middle;\n",
       "    }\n",
       "\n",
       "    .dataframe tbody tr th {\n",
       "        vertical-align: top;\n",
       "    }\n",
       "\n",
       "    .dataframe thead th {\n",
       "        text-align: right;\n",
       "    }\n",
       "</style>\n",
       "<table border=\"1\" class=\"dataframe\">\n",
       "  <thead>\n",
       "    <tr style=\"text-align: right;\">\n",
       "      <th></th>\n",
       "      <th>gender</th>\n",
       "      <th>race_ethnicity</th>\n",
       "      <th>parental_level_of_education</th>\n",
       "      <th>lunch</th>\n",
       "      <th>test_preparation_course</th>\n",
       "      <th>math_score</th>\n",
       "      <th>reading_score</th>\n",
       "      <th>writing_score</th>\n",
       "    </tr>\n",
       "  </thead>\n",
       "  <tbody>\n",
       "    <tr>\n",
       "      <th>0</th>\n",
       "      <td>female</td>\n",
       "      <td>group B</td>\n",
       "      <td>bachelor's degree</td>\n",
       "      <td>standard</td>\n",
       "      <td>none</td>\n",
       "      <td>72</td>\n",
       "      <td>72</td>\n",
       "      <td>74</td>\n",
       "    </tr>\n",
       "    <tr>\n",
       "      <th>1</th>\n",
       "      <td>female</td>\n",
       "      <td>group C</td>\n",
       "      <td>some college</td>\n",
       "      <td>standard</td>\n",
       "      <td>completed</td>\n",
       "      <td>69</td>\n",
       "      <td>90</td>\n",
       "      <td>88</td>\n",
       "    </tr>\n",
       "    <tr>\n",
       "      <th>2</th>\n",
       "      <td>female</td>\n",
       "      <td>group B</td>\n",
       "      <td>master's degree</td>\n",
       "      <td>standard</td>\n",
       "      <td>none</td>\n",
       "      <td>90</td>\n",
       "      <td>95</td>\n",
       "      <td>93</td>\n",
       "    </tr>\n",
       "    <tr>\n",
       "      <th>3</th>\n",
       "      <td>male</td>\n",
       "      <td>group A</td>\n",
       "      <td>associate's degree</td>\n",
       "      <td>free/reduced</td>\n",
       "      <td>none</td>\n",
       "      <td>47</td>\n",
       "      <td>57</td>\n",
       "      <td>44</td>\n",
       "    </tr>\n",
       "    <tr>\n",
       "      <th>4</th>\n",
       "      <td>male</td>\n",
       "      <td>group C</td>\n",
       "      <td>some college</td>\n",
       "      <td>standard</td>\n",
       "      <td>none</td>\n",
       "      <td>76</td>\n",
       "      <td>78</td>\n",
       "      <td>75</td>\n",
       "    </tr>\n",
       "  </tbody>\n",
       "</table>\n",
       "</div>"
      ],
      "text/plain": [
       "   gender race_ethnicity parental_level_of_education         lunch  \\\n",
       "0  female        group B           bachelor's degree      standard   \n",
       "1  female        group C                some college      standard   \n",
       "2  female        group B             master's degree      standard   \n",
       "3    male        group A          associate's degree  free/reduced   \n",
       "4    male        group C                some college      standard   \n",
       "\n",
       "  test_preparation_course  math_score  reading_score  writing_score  \n",
       "0                    none          72             72             74  \n",
       "1               completed          69             90             88  \n",
       "2                    none          90             95             93  \n",
       "3                    none          47             57             44  \n",
       "4                    none          76             78             75  "
      ]
     },
     "execution_count": 4,
     "metadata": {},
     "output_type": "execute_result"
    }
   ],
   "source": [
    "#Replace the column names with more readable ones\n",
    "\n",
    "df.columns =df.columns.str.replace(' ', '_')\n",
    "df.columns =df.columns.str.replace('/', '_')\n",
    "df.head()"
   ]
  },
  {
   "cell_type": "code",
   "execution_count": 5,
   "id": "e3ede668",
   "metadata": {},
   "outputs": [
    {
     "data": {
      "text/html": [
       "<div>\n",
       "<style scoped>\n",
       "    .dataframe tbody tr th:only-of-type {\n",
       "        vertical-align: middle;\n",
       "    }\n",
       "\n",
       "    .dataframe tbody tr th {\n",
       "        vertical-align: top;\n",
       "    }\n",
       "\n",
       "    .dataframe thead th {\n",
       "        text-align: right;\n",
       "    }\n",
       "</style>\n",
       "<table border=\"1\" class=\"dataframe\">\n",
       "  <thead>\n",
       "    <tr style=\"text-align: right;\">\n",
       "      <th></th>\n",
       "      <th>gender</th>\n",
       "      <th>race_ethnicity</th>\n",
       "      <th>parental_level_of_education</th>\n",
       "      <th>lunch</th>\n",
       "      <th>test_preparation_course</th>\n",
       "      <th>reading_score</th>\n",
       "      <th>writing_score</th>\n",
       "    </tr>\n",
       "  </thead>\n",
       "  <tbody>\n",
       "    <tr>\n",
       "      <th>0</th>\n",
       "      <td>female</td>\n",
       "      <td>group B</td>\n",
       "      <td>bachelor's degree</td>\n",
       "      <td>standard</td>\n",
       "      <td>none</td>\n",
       "      <td>72</td>\n",
       "      <td>74</td>\n",
       "    </tr>\n",
       "    <tr>\n",
       "      <th>1</th>\n",
       "      <td>female</td>\n",
       "      <td>group C</td>\n",
       "      <td>some college</td>\n",
       "      <td>standard</td>\n",
       "      <td>completed</td>\n",
       "      <td>90</td>\n",
       "      <td>88</td>\n",
       "    </tr>\n",
       "    <tr>\n",
       "      <th>2</th>\n",
       "      <td>female</td>\n",
       "      <td>group B</td>\n",
       "      <td>master's degree</td>\n",
       "      <td>standard</td>\n",
       "      <td>none</td>\n",
       "      <td>95</td>\n",
       "      <td>93</td>\n",
       "    </tr>\n",
       "    <tr>\n",
       "      <th>3</th>\n",
       "      <td>male</td>\n",
       "      <td>group A</td>\n",
       "      <td>associate's degree</td>\n",
       "      <td>free/reduced</td>\n",
       "      <td>none</td>\n",
       "      <td>57</td>\n",
       "      <td>44</td>\n",
       "    </tr>\n",
       "    <tr>\n",
       "      <th>4</th>\n",
       "      <td>male</td>\n",
       "      <td>group C</td>\n",
       "      <td>some college</td>\n",
       "      <td>standard</td>\n",
       "      <td>none</td>\n",
       "      <td>78</td>\n",
       "      <td>75</td>\n",
       "    </tr>\n",
       "  </tbody>\n",
       "</table>\n",
       "</div>"
      ],
      "text/plain": [
       "   gender race_ethnicity parental_level_of_education         lunch  \\\n",
       "0  female        group B           bachelor's degree      standard   \n",
       "1  female        group C                some college      standard   \n",
       "2  female        group B             master's degree      standard   \n",
       "3    male        group A          associate's degree  free/reduced   \n",
       "4    male        group C                some college      standard   \n",
       "\n",
       "  test_preparation_course  reading_score  writing_score  \n",
       "0                    none             72             74  \n",
       "1               completed             90             88  \n",
       "2                    none             95             93  \n",
       "3                    none             57             44  \n",
       "4                    none             78             75  "
      ]
     },
     "execution_count": 5,
     "metadata": {},
     "output_type": "execute_result"
    }
   ],
   "source": [
    "X = df.drop(columns=['math_score'], axis=1)\n",
    "X.head()"
   ]
  },
  {
   "cell_type": "code",
   "execution_count": 6,
   "id": "68b66ce3",
   "metadata": {},
   "outputs": [
    {
     "data": {
      "text/plain": [
       "0      72\n",
       "1      69\n",
       "2      90\n",
       "3      47\n",
       "4      76\n",
       "       ..\n",
       "995    88\n",
       "996    62\n",
       "997    59\n",
       "998    68\n",
       "999    77\n",
       "Name: math_score, Length: 1000, dtype: int64"
      ]
     },
     "execution_count": 6,
     "metadata": {},
     "output_type": "execute_result"
    }
   ],
   "source": [
    "y = df['math_score']\n",
    "y"
   ]
  },
  {
   "cell_type": "code",
   "execution_count": 7,
   "id": "a68756d5",
   "metadata": {},
   "outputs": [],
   "source": [
    "num_features = X.select_dtypes(exclude=['object']).columns\n",
    "cat_features = X.select_dtypes(include=['object']).columns"
   ]
  },
  {
   "cell_type": "code",
   "execution_count": 8,
   "id": "62d4aa35",
   "metadata": {},
   "outputs": [],
   "source": [
    "from pandas import get_dummies\n",
    "from sklearn.preprocessing import StandardScaler, LabelEncoder\n",
    "from sklearn.compose import ColumnTransformer\n",
    "\n",
    "#encode categorical features\n",
    "label_encoder = LabelEncoder()\n",
    "for col in cat_features:\n",
    "    # X = pd.get_dummies(X, columns=[col])\n",
    "    X[col] = label_encoder.fit_transform(X[col])\n",
    "\n",
    "# Normalize numerical features\n",
    "standard_scaler = StandardScaler()\n",
    "for col in num_features:\n",
    "    X[[col]] = standard_scaler.fit_transform(X[[col]])\n",
    "\n"
   ]
  },
  {
   "cell_type": "code",
   "execution_count": 9,
   "id": "753944ce",
   "metadata": {},
   "outputs": [
    {
     "name": "stdout",
     "output_type": "stream",
     "text": [
      "<class 'pandas.core.frame.DataFrame'>\n",
      "RangeIndex: 1000 entries, 0 to 999\n",
      "Data columns (total 7 columns):\n",
      " #   Column                       Non-Null Count  Dtype  \n",
      "---  ------                       --------------  -----  \n",
      " 0   gender                       1000 non-null   int64  \n",
      " 1   race_ethnicity               1000 non-null   int64  \n",
      " 2   parental_level_of_education  1000 non-null   int64  \n",
      " 3   lunch                        1000 non-null   int64  \n",
      " 4   test_preparation_course      1000 non-null   int64  \n",
      " 5   reading_score                1000 non-null   float64\n",
      " 6   writing_score                1000 non-null   float64\n",
      "dtypes: float64(2), int64(5)\n",
      "memory usage: 54.8 KB\n"
     ]
    }
   ],
   "source": [
    "X.info()"
   ]
  },
  {
   "cell_type": "code",
   "execution_count": 10,
   "id": "e1ad2c0e",
   "metadata": {},
   "outputs": [
    {
     "data": {
      "text/html": [
       "<div>\n",
       "<style scoped>\n",
       "    .dataframe tbody tr th:only-of-type {\n",
       "        vertical-align: middle;\n",
       "    }\n",
       "\n",
       "    .dataframe tbody tr th {\n",
       "        vertical-align: top;\n",
       "    }\n",
       "\n",
       "    .dataframe thead th {\n",
       "        text-align: right;\n",
       "    }\n",
       "</style>\n",
       "<table border=\"1\" class=\"dataframe\">\n",
       "  <thead>\n",
       "    <tr style=\"text-align: right;\">\n",
       "      <th></th>\n",
       "      <th>gender</th>\n",
       "      <th>race_ethnicity</th>\n",
       "      <th>parental_level_of_education</th>\n",
       "      <th>lunch</th>\n",
       "      <th>test_preparation_course</th>\n",
       "      <th>reading_score</th>\n",
       "      <th>writing_score</th>\n",
       "    </tr>\n",
       "  </thead>\n",
       "  <tbody>\n",
       "    <tr>\n",
       "      <th>0</th>\n",
       "      <td>0</td>\n",
       "      <td>1</td>\n",
       "      <td>1</td>\n",
       "      <td>1</td>\n",
       "      <td>1</td>\n",
       "      <td>0.193999</td>\n",
       "      <td>0.391492</td>\n",
       "    </tr>\n",
       "    <tr>\n",
       "      <th>1</th>\n",
       "      <td>0</td>\n",
       "      <td>2</td>\n",
       "      <td>4</td>\n",
       "      <td>1</td>\n",
       "      <td>0</td>\n",
       "      <td>1.427476</td>\n",
       "      <td>1.313269</td>\n",
       "    </tr>\n",
       "    <tr>\n",
       "      <th>2</th>\n",
       "      <td>0</td>\n",
       "      <td>1</td>\n",
       "      <td>3</td>\n",
       "      <td>1</td>\n",
       "      <td>1</td>\n",
       "      <td>1.770109</td>\n",
       "      <td>1.642475</td>\n",
       "    </tr>\n",
       "    <tr>\n",
       "      <th>3</th>\n",
       "      <td>1</td>\n",
       "      <td>0</td>\n",
       "      <td>0</td>\n",
       "      <td>0</td>\n",
       "      <td>1</td>\n",
       "      <td>-0.833899</td>\n",
       "      <td>-1.583744</td>\n",
       "    </tr>\n",
       "    <tr>\n",
       "      <th>4</th>\n",
       "      <td>1</td>\n",
       "      <td>2</td>\n",
       "      <td>4</td>\n",
       "      <td>1</td>\n",
       "      <td>1</td>\n",
       "      <td>0.605158</td>\n",
       "      <td>0.457333</td>\n",
       "    </tr>\n",
       "  </tbody>\n",
       "</table>\n",
       "</div>"
      ],
      "text/plain": [
       "   gender  race_ethnicity  parental_level_of_education  lunch  \\\n",
       "0       0               1                            1      1   \n",
       "1       0               2                            4      1   \n",
       "2       0               1                            3      1   \n",
       "3       1               0                            0      0   \n",
       "4       1               2                            4      1   \n",
       "\n",
       "   test_preparation_course  reading_score  writing_score  \n",
       "0                        1       0.193999       0.391492  \n",
       "1                        0       1.427476       1.313269  \n",
       "2                        1       1.770109       1.642475  \n",
       "3                        1      -0.833899      -1.583744  \n",
       "4                        1       0.605158       0.457333  "
      ]
     },
     "execution_count": 10,
     "metadata": {},
     "output_type": "execute_result"
    }
   ],
   "source": [
    "X.head()"
   ]
  },
  {
   "cell_type": "code",
   "execution_count": 11,
   "id": "6786210b",
   "metadata": {},
   "outputs": [
    {
     "data": {
      "text/plain": [
       "((800, 7), (200, 7))"
      ]
     },
     "execution_count": 11,
     "metadata": {},
     "output_type": "execute_result"
    }
   ],
   "source": [
    "X_train,X_test,y_train,y_test = train_test_split(X, y, test_size=0.2, random_state=42)\n",
    "X_train.shape, X_test.shape"
   ]
  },
  {
   "cell_type": "code",
   "execution_count": 12,
   "id": "16138a0b",
   "metadata": {},
   "outputs": [],
   "source": [
    "from sklearn.ensemble import AdaBoostRegressor\n",
    "\n",
    "\n",
    "models={\n",
    "    'LinearRegression': LinearRegression(),\n",
    "    'LogisticRegression': LogisticRegression(max_iter=1000),\n",
    "    'RandomForestRegressor': RandomForestRegressor(),\n",
    "    'DecisionTreeRegressor': DecisionTreeRegressor(),\n",
    "    'KNeighborsRegressor': KNeighborsRegressor(),\n",
    "    'XGBRegressor': XGBRegressor(),\n",
    "    'CatBoostRegressor': CatBoostRegressor(verbose=0),\n",
    "    'AdaboostRegressor': AdaBoostRegressor(),\n",
    "    'SVR': SVR()\n",
    "}"
   ]
  },
  {
   "cell_type": "code",
   "execution_count": 13,
   "id": "637779bc",
   "metadata": {},
   "outputs": [],
   "source": [
    "def evaluate_model(true_value, predicted_value):\n",
    "    rmse = np.sqrt(mean_squared_error(true_value, predicted_value))\n",
    "    r2 = r2_score(true_value, predicted_value)\n",
    "    mae = mean_absolute_error(true_value, predicted_value)\n",
    "    return rmse, r2, mae"
   ]
  },
  {
   "cell_type": "code",
   "execution_count": 14,
   "id": "01312c24",
   "metadata": {},
   "outputs": [
    {
     "name": "stdout",
     "output_type": "stream",
     "text": [
      "LinearRegression\n",
      "Model Performance on Training Data:\n",
      "Root Mean Squared Error: 5.5876\n",
      "R^2 Score: 0.8615\n",
      "Mean Absolute Error: 4.4947\n",
      "------------------------------\n",
      "Model Performance on Test Data:\n",
      "Root Mean Squared Error: 5.3175\n",
      "R^2 Score: 0.8838\n",
      "Mean Absolute Error: 4.1301\n",
      "================================================== \n",
      "\n",
      "LogisticRegression\n",
      "Model Performance on Training Data:\n",
      "Root Mean Squared Error: 8.0859\n",
      "R^2 Score: 0.7100\n",
      "Mean Absolute Error: 6.1750\n",
      "------------------------------\n",
      "Model Performance on Test Data:\n",
      "Root Mean Squared Error: 8.6348\n",
      "R^2 Score: 0.6936\n",
      "Mean Absolute Error: 6.4800\n",
      "================================================== \n",
      "\n",
      "RandomForestRegressor\n",
      "Model Performance on Training Data:\n",
      "Root Mean Squared Error: 2.3271\n",
      "R^2 Score: 0.9760\n",
      "Mean Absolute Error: 1.8505\n",
      "------------------------------\n",
      "Model Performance on Test Data:\n",
      "Root Mean Squared Error: 6.0692\n",
      "R^2 Score: 0.8486\n",
      "Mean Absolute Error: 4.7182\n",
      "================================================== \n",
      "\n",
      "DecisionTreeRegressor\n",
      "Model Performance on Training Data:\n",
      "Root Mean Squared Error: 0.2795\n",
      "R^2 Score: 0.9997\n",
      "Mean Absolute Error: 0.0187\n",
      "------------------------------\n",
      "Model Performance on Test Data:\n",
      "Root Mean Squared Error: 8.2611\n",
      "R^2 Score: 0.7195\n",
      "Mean Absolute Error: 6.3650\n",
      "================================================== \n",
      "\n",
      "KNeighborsRegressor\n",
      "Model Performance on Training Data:\n",
      "Root Mean Squared Error: 5.6097\n",
      "R^2 Score: 0.8604\n",
      "Mean Absolute Error: 4.4940\n",
      "------------------------------\n",
      "Model Performance on Test Data:\n",
      "Root Mean Squared Error: 7.2982\n",
      "R^2 Score: 0.7811\n",
      "Mean Absolute Error: 5.6740\n",
      "================================================== \n",
      "\n",
      "XGBRegressor\n",
      "Model Performance on Training Data:\n",
      "Root Mean Squared Error: 0.9722\n",
      "R^2 Score: 0.9958\n",
      "Mean Absolute Error: 0.6493\n",
      "------------------------------\n",
      "Model Performance on Test Data:\n",
      "Root Mean Squared Error: 6.5274\n",
      "R^2 Score: 0.8249\n",
      "Mean Absolute Error: 5.1068\n",
      "================================================== \n",
      "\n",
      "CatBoostRegressor\n",
      "Model Performance on Training Data:\n",
      "Root Mean Squared Error: 3.1463\n",
      "R^2 Score: 0.9561\n",
      "Mean Absolute Error: 2.4707\n",
      "------------------------------\n",
      "Model Performance on Test Data:\n",
      "Root Mean Squared Error: 6.0678\n",
      "R^2 Score: 0.8487\n",
      "Mean Absolute Error: 4.6540\n",
      "================================================== \n",
      "\n",
      "AdaboostRegressor\n",
      "Model Performance on Training Data:\n",
      "Root Mean Squared Error: 5.7932\n",
      "R^2 Score: 0.8511\n",
      "Mean Absolute Error: 4.7657\n",
      "------------------------------\n",
      "Model Performance on Test Data:\n",
      "Root Mean Squared Error: 6.0570\n",
      "R^2 Score: 0.8492\n",
      "Mean Absolute Error: 4.7193\n",
      "================================================== \n",
      "\n",
      "SVR\n",
      "Model Performance on Training Data:\n",
      "Root Mean Squared Error: 7.0838\n",
      "R^2 Score: 0.7774\n",
      "Mean Absolute Error: 5.4547\n",
      "------------------------------\n",
      "Model Performance on Test Data:\n",
      "Root Mean Squared Error: 8.3025\n",
      "R^2 Score: 0.7167\n",
      "Mean Absolute Error: 5.9402\n",
      "================================================== \n",
      "\n"
     ]
    }
   ],
   "source": [
    "model_list = []\n",
    "r2_scores = []\n",
    "for i in range(len(models)):\n",
    "    model =list(models.values())[i]\n",
    "    model.fit(X_train, y_train)\n",
    "\n",
    "    # Training predictions(for evaluation)\n",
    "    y_train_pred = model.predict(X_train)\n",
    "\n",
    "    # Testing predictions(actual use)\n",
    "    y_test_pred = model.predict(X_test)\n",
    "\n",
    "    # Evaluation metrics for Training and Test dataset\n",
    "    rmse_train, r2_train, mae_train = evaluate_model(y_train, y_train_pred)\n",
    "    rmse_test, r2_test, mae_test = evaluate_model(y_test, y_test_pred)\n",
    "\n",
    "    print(list(models.keys())[i])\n",
    "    model_list.append(list(models.keys())[i])\n",
    "\n",
    "    print('Model Performance on Training Data:')\n",
    "    print(\"Root Mean Squared Error: {:.4f}\".format(rmse_train) )\n",
    "    print('R^2 Score: {:.4f}'.format(r2_train))\n",
    "    print('Mean Absolute Error: {:.4f}'.format(mae_train))\n",
    "    print('-' * 30)\n",
    "    \n",
    "    print('Model Performance on Test Data:')\n",
    "    print(\"Root Mean Squared Error: {:.4f}\".format(rmse_test))\n",
    "    print(\"R^2 Score: {:.4f}\".format(r2_test))\n",
    "    print(\"Mean Absolute Error: {:.4f}\".format(mae_test))\n",
    "    print('=' * 50,'\\n')\n",
    "    r2_scores.append(r2_test)"
   ]
  },
  {
   "cell_type": "code",
   "execution_count": 15,
   "id": "a174719f",
   "metadata": {},
   "outputs": [
    {
     "data": {
      "text/html": [
       "<div>\n",
       "<style scoped>\n",
       "    .dataframe tbody tr th:only-of-type {\n",
       "        vertical-align: middle;\n",
       "    }\n",
       "\n",
       "    .dataframe tbody tr th {\n",
       "        vertical-align: top;\n",
       "    }\n",
       "\n",
       "    .dataframe thead th {\n",
       "        text-align: right;\n",
       "    }\n",
       "</style>\n",
       "<table border=\"1\" class=\"dataframe\">\n",
       "  <thead>\n",
       "    <tr style=\"text-align: right;\">\n",
       "      <th></th>\n",
       "      <th>Model</th>\n",
       "      <th>R^2 Score</th>\n",
       "    </tr>\n",
       "  </thead>\n",
       "  <tbody>\n",
       "    <tr>\n",
       "      <th>0</th>\n",
       "      <td>LinearRegression</td>\n",
       "      <td>0.883803</td>\n",
       "    </tr>\n",
       "    <tr>\n",
       "      <th>1</th>\n",
       "      <td>AdaboostRegressor</td>\n",
       "      <td>0.849232</td>\n",
       "    </tr>\n",
       "    <tr>\n",
       "      <th>2</th>\n",
       "      <td>CatBoostRegressor</td>\n",
       "      <td>0.848694</td>\n",
       "    </tr>\n",
       "    <tr>\n",
       "      <th>3</th>\n",
       "      <td>RandomForestRegressor</td>\n",
       "      <td>0.848628</td>\n",
       "    </tr>\n",
       "    <tr>\n",
       "      <th>4</th>\n",
       "      <td>XGBRegressor</td>\n",
       "      <td>0.824909</td>\n",
       "    </tr>\n",
       "    <tr>\n",
       "      <th>5</th>\n",
       "      <td>KNeighborsRegressor</td>\n",
       "      <td>0.781113</td>\n",
       "    </tr>\n",
       "    <tr>\n",
       "      <th>6</th>\n",
       "      <td>DecisionTreeRegressor</td>\n",
       "      <td>0.719547</td>\n",
       "    </tr>\n",
       "    <tr>\n",
       "      <th>7</th>\n",
       "      <td>SVR</td>\n",
       "      <td>0.716723</td>\n",
       "    </tr>\n",
       "    <tr>\n",
       "      <th>8</th>\n",
       "      <td>LogisticRegression</td>\n",
       "      <td>0.693595</td>\n",
       "    </tr>\n",
       "  </tbody>\n",
       "</table>\n",
       "</div>"
      ],
      "text/plain": [
       "                   Model  R^2 Score\n",
       "0       LinearRegression   0.883803\n",
       "1      AdaboostRegressor   0.849232\n",
       "2      CatBoostRegressor   0.848694\n",
       "3  RandomForestRegressor   0.848628\n",
       "4           XGBRegressor   0.824909\n",
       "5    KNeighborsRegressor   0.781113\n",
       "6  DecisionTreeRegressor   0.719547\n",
       "7                    SVR   0.716723\n",
       "8     LogisticRegression   0.693595"
      ]
     },
     "execution_count": 15,
     "metadata": {},
     "output_type": "execute_result"
    }
   ],
   "source": [
    "pd.DataFrame({\n",
    "    'Model': model_list,\n",
    "    'R^2 Score': r2_scores\n",
    "}).sort_values(by='R^2 Score', ascending=False).reset_index(drop=True)"
   ]
  },
  {
   "cell_type": "markdown",
   "id": "c3b02a5c",
   "metadata": {},
   "source": [
    "Choosing Linear regression"
   ]
  },
  {
   "cell_type": "code",
   "execution_count": 16,
   "id": "e7c9aeb3",
   "metadata": {},
   "outputs": [
    {
     "name": "stdout",
     "output_type": "stream",
     "text": [
      "Linear Regression Model Performance:\n",
      "Root Mean Squared Error: 5.3175\n",
      "R^2 Score: 0.8838\n",
      "Mean Absolute Error: 4.1301\n"
     ]
    }
   ],
   "source": [
    "lin_model = LinearRegression()\n",
    "lin_model.fit(X_train, y_train)\n",
    "y_pred = lin_model.predict(X_test)\n",
    "print(\"Linear Regression Model Performance:\")\n",
    "rmse, r2, mae = evaluate_model(y_test, y_pred)\n",
    "print(\"Root Mean Squared Error: {:.4f}\".format(rmse))\n",
    "print(\"R^2 Score: {:.4f}\".format(r2))\n",
    "print(\"Mean Absolute Error: {:.4f}\".format(mae))"
   ]
  },
  {
   "cell_type": "code",
   "execution_count": 17,
   "id": "021b61c7",
   "metadata": {},
   "outputs": [
    {
     "data": {
      "text/plain": [
       "Text(0.5, 1.0, 'Actual vs Predicted Values')"
      ]
     },
     "execution_count": 17,
     "metadata": {},
     "output_type": "execute_result"
    },
    {
     "data": {
      "image/png": "[encoded data removed]",
      "text/plain": [
       "<Figure size 640x480 with 1 Axes>"
      ]
     },
     "metadata": {},
     "output_type": "display_data"
    }
   ],
   "source": [
    "from matplotlib import pyplot as plt\n",
    "plt.scatter(y_test, y_pred)\n",
    "plt.xlabel('Actual Values')\n",
    "plt.ylabel('Predicted Values')\n",
    "plt.title('Actual vs Predicted Values')"
   ]
  },
  {
   "cell_type": "code",
   "execution_count": 23,
   "id": "10e2faa9",
   "metadata": {},
   "outputs": [
    {
     "data": {
      "text/plain": [
       "<Axes: xlabel='math_score'>"
      ]
     },
     "execution_count": 23,
     "metadata": {},
     "output_type": "execute_result"
    },
    {
     "data": {
      "image/png": "[encoded data removed]",
      "text/plain": [
       "<Figure size 640x480 with 1 Axes>"
      ]
     },
     "metadata": {},
     "output_type": "display_data"
    }
   ],
   "source": [
    "import seaborn as sns\n",
    "sns.regplot(x=y_test, y=y_pred, line_kws={\"color\": \"red\"})"
   ]
  },
  {
   "cell_type": "code",
   "execution_count": null,
   "id": "9e291471",
   "metadata": {},
   "outputs": [],
   "source": []
  }
 ],
 "metadata": {
  "kernelspec": {
   "display_name": "spi",
   "language": "python",
   "name": "python3"
  },
  "language_info": {
   "codemirror_mode": {
    "name": "ipython",
    "version": 3
   },
   "file_extension": ".py",
   "mimetype": "text/x-python",
   "name": "python",
   "nbconvert_exporter": "python",
   "pygments_lexer": "ipython3",
   "version": "3.12.3"
  }
 },
 "nbformat": 4,
 "nbformat_minor": 5
}
